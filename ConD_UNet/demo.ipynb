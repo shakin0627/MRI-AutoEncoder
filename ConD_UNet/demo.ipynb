{
 "cells": [
  {
   "cell_type": "code",
   "execution_count": 1,
   "id": "73944974-5740-4bc8-bdc8-8ad3c991a1b3",
   "metadata": {},
   "outputs": [
    {
     "name": "stdout",
     "output_type": "stream",
     "text": [
      "v_pred shape: torch.Size([2, 256, 16, 16])\n",
      "Loss: 1.1204676628112793\n"
     ]
    }
   ],
   "source": [
    "import torch\n",
    "import torch.nn as nn\n",
    "import torch.nn.functional as F\n",
    "\n",
    "# ====== 一个简单的 Shared Encoder （toy 版本，随便卷积一下） ======\n",
    "class SharedEncoder(nn.Module):\n",
    "    def __init__(self, in_ch=1, out_ch=256):\n",
    "        super().__init__()\n",
    "        self.encoder = nn.Sequential(\n",
    "            nn.Conv2d(in_ch, 32, 3, padding=1, stride=2),\n",
    "            nn.ReLU(),\n",
    "            nn.Conv2d(32, 64, 3, padding=1, stride=2),\n",
    "            nn.ReLU(),\n",
    "            nn.Conv2d(64, out_ch, 3, padding=1, stride=2),\n",
    "            nn.ReLU(),\n",
    "        )\n",
    "    def forward(self, x):\n",
    "        return self.encoder(x)  # (B, out_ch, H/8, W/8)\n",
    "\n",
    "# ====== 导入你写的 UNetFlow ======\n",
    "from flow_matching_unet import UNetFlow\n",
    "\n",
    "# ====== Flow Matching 框架最小示例 ======\n",
    "class FlowMatchingWrapper(nn.Module):\n",
    "    def __init__(self, in_channels=256, cond_dim=256):\n",
    "        super().__init__()\n",
    "        self.unet = UNetFlow(\n",
    "            in_channels=in_channels,\n",
    "            base_channels=64,\n",
    "            time_emb_dim=128,\n",
    "            depth=4,\n",
    "            use_cross_attn=True,\n",
    "            cond_dim=cond_dim\n",
    "        )\n",
    "\n",
    "    def forward(self, x_t, cond_feats, t, cond_mask=None):\n",
    "        # v_pred: (B, C, H, W)\n",
    "        return self.unet(x_t, cond_feats, t, cond_mask)\n",
    "\n",
    "\n",
    "# ====== 测试 pipeline ======\n",
    "if __name__ == \"__main__\":\n",
    "    B, C, H, W = 2, 1, 128, 128   # 两个样本，单通道 MRI slice\n",
    "    N, C_cond = 3, 256           # 条件模态数 3 (T1/T2/FLAIR)，embedding dim = 256\n",
    "\n",
    "    # 输入原始 MRI 图像\n",
    "    img = torch.randn(B, C, H, W)  # toy MRI slice\n",
    "    encoder = SharedEncoder(in_ch=1, out_ch=256)\n",
    "    x_0 = encoder(img)             # (B, 256, H/8, W/8)\n",
    "\n",
    "    # 构造 flow matching 输入\n",
    "    t = torch.randint(0, 1000, (B,))          # 时间步\n",
    "    noise = torch.randn_like(x_0)\n",
    "    x_t = x_0 + noise * 0.1                   # 加噪声的 latent\n",
    "\n",
    "    cond_feats = torch.randn(B, N, C_cond)    # 条件模态 embedding\n",
    "    cond_mask = torch.tensor([[1,1,1],[1,0,1]])  # 第二个样本缺一个模态\n",
    "\n",
    "    # 调用模型\n",
    "    model = FlowMatchingWrapper(in_channels=256, cond_dim=C_cond)\n",
    "    v_pred = model(x_t, cond_feats, t, cond_mask)  # (B, 256, H/8, W/8)\n",
    "\n",
    "    # 构造 target 向量场（这里只是 toy）\n",
    "    v_target = noise\n",
    "\n",
    "    # 损失\n",
    "    loss = F.mse_loss(v_pred, v_target)\n",
    "    print(\"v_pred shape:\", v_pred.shape)\n",
    "    print(\"Loss:\", loss.item())\n"
   ]
  },
  {
   "cell_type": "code",
   "execution_count": null,
   "id": "2dfb9c1b-d69b-4c47-9fc6-13cae86ba19b",
   "metadata": {},
   "outputs": [],
   "source": []
  },
  {
   "cell_type": "code",
   "execution_count": null,
   "id": "b4a4e549-a625-4567-8266-f0755f65b2c4",
   "metadata": {},
   "outputs": [],
   "source": []
  }
 ],
 "metadata": {
  "kernelspec": {
   "display_name": "Python 3 (ipykernel)",
   "language": "python",
   "name": "python3"
  },
  "language_info": {
   "codemirror_mode": {
    "name": "ipython",
    "version": 3
   },
   "file_extension": ".py",
   "mimetype": "text/x-python",
   "name": "python",
   "nbconvert_exporter": "python",
   "pygments_lexer": "ipython3",
   "version": "3.12.4"
  }
 },
 "nbformat": 4,
 "nbformat_minor": 5
}
